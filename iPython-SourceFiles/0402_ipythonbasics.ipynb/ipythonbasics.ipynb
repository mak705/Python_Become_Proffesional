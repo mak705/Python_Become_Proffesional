{
 "cells": [
  {
   "cell_type": "markdown",
   "metadata": {},
   "source": [
    "We're going to do basic mathematical operations in Python with iPython Notebook"
   ]
  },
  {
   "cell_type": "code",
   "execution_count": 4,
   "metadata": {
    "collapsed": false
   },
   "outputs": [
    {
     "name": "stdout",
     "output_type": "stream",
     "text": [
      "a= 1\n",
      "b= 2\n",
      "a+b= 3\n",
      "a-b= -1\n",
      "a*b= 2\n",
      "a/b= 0\n"
     ]
    }
   ],
   "source": [
    "a=1\n",
    "print \"a=\", a\n",
    "b = 2\n",
    "print \"b=\", b\n",
    "print \"a+b=\", a+b\n",
    "print \"a-b=\", a-b\n",
    "print \"a*b=\", a*b\n",
    "print \"a/b=\", a/b"
   ]
  },
  {
   "cell_type": "code",
   "execution_count": 5,
   "metadata": {
    "collapsed": true
   },
   "outputs": [],
   "source": [
    "def add(x,y):\n",
    "    return x+y\n",
    "\n",
    "def subtract(x,y):\n",
    "    return x-y\n",
    "\n",
    "def multiply(x,y):\n",
    "    return x*y\n",
    "\n",
    "def divide(x,y):\n",
    "    if y:\n",
    "        return x/y\n",
    "    else:\n",
    "        return \"Can't divide by zero\"\n",
    "    "
   ]
  },
  {
   "cell_type": "markdown",
   "metadata": {
    "collapsed": true
   },
   "source": [
    "We can try our new functions"
   ]
  },
  {
   "cell_type": "code",
   "execution_count": 8,
   "metadata": {
    "collapsed": false
   },
   "outputs": [
    {
     "name": "stdout",
     "output_type": "stream",
     "text": [
      "c+d= 25\n",
      "c-d= 15\n",
      "c*d= 100\n",
      "c/d= 4\n",
      "c/0= Can't divide by zero\n"
     ]
    }
   ],
   "source": [
    "c=20\n",
    "d=5\n",
    "print \"c+d=\", add(c,d)\n",
    "print \"c-d=\", subtract(c,d)\n",
    "print \"c*d=\", multiply(c,d)\n",
    "print \"c/d=\", divide(c,d)\n",
    "print \"c/0=\", divide(c,0)"
   ]
  },
  {
   "cell_type": "markdown",
   "metadata": {},
   "source": [
    "More complicated functions can be defined:"
   ]
  },
  {
   "cell_type": "code",
   "execution_count": 13,
   "metadata": {
    "collapsed": false
   },
   "outputs": [],
   "source": [
    "def exponential(x,y):\n",
    "    return x**y\n",
    "\n",
    "def mean_value(x,y):\n",
    "    return (x+y)/2\n",
    "\n",
    "def find_greatest_divisor(x,y):\n",
    "    greatest_divisor=1\n",
    "    for i in range(1,min(x,y)+1):\n",
    "        if not x%i and not y%i:\n",
    "            greatest_divisor=i\n",
    "    return greatest_divisor"
   ]
  },
  {
   "cell_type": "markdown",
   "metadata": {},
   "source": [
    "We can use our new functions to easily find some interesting number properties like largest divisor."
   ]
  },
  {
   "cell_type": "code",
   "execution_count": 14,
   "metadata": {
    "collapsed": false
   },
   "outputs": [
    {
     "name": "stdout",
     "output_type": "stream",
     "text": [
      "2^10= 1024\n",
      "Mean value of 120 and 100= 110\n",
      "Greatest divisor of 120 and 100= 20\n"
     ]
    }
   ],
   "source": [
    "print \"2^10=\", exponential(2,10)\n",
    "print \"Mean value of 120 and 100=\", mean_value(120,100)\n",
    "print \"Greatest divisor of 120 and 100=\", find_greatest_divisor(120,100)"
   ]
  },
  {
   "cell_type": "markdown",
   "metadata": {},
   "source": [
    "If we want to find the least common multiple, we can do that fairly easy. One way is:"
   ]
  },
  {
   "cell_type": "code",
   "execution_count": 31,
   "metadata": {
    "collapsed": false
   },
   "outputs": [],
   "source": [
    "def find_least_multiple_1(x,y):\n",
    "    return x*y/find_greatest_divisor(x,y)"
   ]
  },
  {
   "cell_type": "markdown",
   "metadata": {},
   "source": [
    "And the other is:"
   ]
  },
  {
   "cell_type": "code",
   "execution_count": 35,
   "metadata": {
    "collapsed": false
   },
   "outputs": [],
   "source": [
    "def find_least_multiple_2(x,y):\n",
    "    least_multiple=min(x,y)\n",
    "    for i in range(least_multiple, x*y+1):\n",
    "        if not i%x and not i%y:\n",
    "            return i"
   ]
  },
  {
   "cell_type": "markdown",
   "metadata": {},
   "source": [
    "Let's see the results of those two functions:"
   ]
  },
  {
   "cell_type": "code",
   "execution_count": 37,
   "metadata": {
    "collapsed": false
   },
   "outputs": [
    {
     "name": "stdout",
     "output_type": "stream",
     "text": [
      "Greatest divisor of 120 and 100= 600\n",
      "Greatest divisor of 120 and 100= 600\n"
     ]
    }
   ],
   "source": [
    "print \"Greatest divisor of 120 and 100=\", find_least_multiple_1(120,100)\n",
    "print \"Greatest divisor of 120 and 100=\", find_least_multiple_2(120,100)"
   ]
  },
  {
   "cell_type": "code",
   "execution_count": null,
   "metadata": {
    "collapsed": true
   },
   "outputs": [],
   "source": []
  }
 ],
 "metadata": {
  "kernelspec": {
   "display_name": "Python 2",
   "language": "python",
   "name": "python2"
  },
  "language_info": {
   "codemirror_mode": {
    "name": "ipython",
    "version": 2
   },
   "file_extension": ".py",
   "mimetype": "text/x-python",
   "name": "python",
   "nbconvert_exporter": "python",
   "pygments_lexer": "ipython2",
   "version": "2.7.12"
  }
 },
 "nbformat": 4,
 "nbformat_minor": 1
}

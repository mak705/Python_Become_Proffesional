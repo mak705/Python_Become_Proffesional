{
 "cells": [
  {
   "cell_type": "markdown",
   "metadata": {},
   "source": [
    "In this example we are going to create a simple Airplane factory. Planes differ by the type, color, and weight in metric tons."
   ]
  },
  {
   "cell_type": "code",
   "execution_count": 6,
   "metadata": {
    "collapsed": true
   },
   "outputs": [],
   "source": [
    "class Airplane():\n",
    "    def __init__(self, Type, Weight, Color=None):\n",
    "        self.Type=Type\n",
    "        self.Weight=Weight\n",
    "        self.Color=Color"
   ]
  },
  {
   "cell_type": "markdown",
   "metadata": {},
   "source": [
    "As one can see, it is allowed that we don't know what the plane color is so that property can be left unused."
   ]
  },
  {
   "cell_type": "code",
   "execution_count": 7,
   "metadata": {
    "collapsed": false
   },
   "outputs": [
    {
     "name": "stdout",
     "output_type": "stream",
     "text": [
      "['Jet', 'Glider', 'Propelled']\n"
     ]
    }
   ],
   "source": [
    "Airplane_types = [\"Jet\", \"Glider\", \"Propelled\"]\n",
    "print(Airplane_types)"
   ]
  },
  {
   "cell_type": "markdown",
   "metadata": {},
   "source": [
    "Let's create a few Airplane class instances and put them into a list:"
   ]
  },
  {
   "cell_type": "code",
   "execution_count": 15,
   "metadata": {
    "collapsed": false
   },
   "outputs": [],
   "source": [
    "Airplanes=[]\n",
    "Airplanes.append(Airplane(Airplane_types[0], 100, \"Blue\"))\n",
    "Airplanes.append(Airplane(Airplane_types[2], 500, \"White\"))\n",
    "Airplanes.append(Airplane(Airplane_types[1], 600, \"Blue\"))\n",
    "Airplanes.append(Airplane(Airplane_types[1], 300, \"Red\"))\n",
    "Airplanes.append(Airplane(Airplane_types[0], 200, \"Yellow\"))\n",
    "Airplanes.append(Airplane(Airplane_types[0], 700, \"Red\"))\n",
    "Airplanes.append(Airplane(Airplane_types[0], 700, \"Yellow\"))\n",
    "Airplanes.append(Airplane(Airplane_types[0], 900, \"Red\"))\n",
    "Airplanes.append(Airplane(Airplane_types[0], 200, \"Blue\"))\n",
    "Airplanes.append(Airplane(Airplane_types[2], 1000,))"
   ]
  },
  {
   "cell_type": "markdown",
   "metadata": {},
   "source": [
    "Color of the last Airplane is unknown. We can now iterate through created Airplanes and see how many Red Airplanes are there:"
   ]
  },
  {
   "cell_type": "code",
   "execution_count": 10,
   "metadata": {
    "collapsed": false
   },
   "outputs": [
    {
     "name": "stdout",
     "output_type": "stream",
     "text": [
      "There are  3  red airplanes\n"
     ]
    }
   ],
   "source": [
    "red_counter=0\n",
    "for airplane_item in Airplanes:\n",
    "    if airplane_item.Color==\"Red\":\n",
    "        red_counter+=1\n",
    "print \"There are \", red_counter, \" red airplanes\""
   ]
  },
  {
   "cell_type": "markdown",
   "metadata": {},
   "source": [
    "It is possible to put this code into a function so we can check how many Airplanes of each Color there are:"
   ]
  },
  {
   "cell_type": "code",
   "execution_count": 12,
   "metadata": {
    "collapsed": false
   },
   "outputs": [],
   "source": [
    "def color_count(Airplanes_list, Color):\n",
    "    color_counter=0\n",
    "    return_list=[]\n",
    "    for airplane_item in Airplanes_list:\n",
    "        if airplane_item.Color==Color:\n",
    "            color_counter+=1\n",
    "            return_list.append([airplane_item.Type, airplane_item.Weight, airplane_item.Color])\n",
    "    if Color is None:\n",
    "        print \"There are\", color_counter, \"Airplanes with unknown Color.\"\n",
    "    else:\n",
    "        print \"There are\", color_counter, str(Color), \"Airplanes.\"\n",
    "    print(return_list)\n"
   ]
  },
  {
   "cell_type": "markdown",
   "metadata": {},
   "source": [
    "Let's try out new function out:"
   ]
  },
  {
   "cell_type": "code",
   "execution_count": 16,
   "metadata": {
    "collapsed": false
   },
   "outputs": [
    {
     "name": "stdout",
     "output_type": "stream",
     "text": [
      "There are 3 Red Airplanes.\n",
      "[['Glider', 300, 'Red'], ['Jet', 700, 'Red'], ['Jet', 900, 'Red']]\n",
      "There are 3 Blue Airplanes.\n",
      "[['Jet', 100, 'Blue'], ['Glider', 600, 'Blue'], ['Jet', 200, 'Blue']]\n",
      "There are 2 Yellow Airplanes.\n",
      "[['Jet', 200, 'Yellow'], ['Jet', 700, 'Yellow']]\n",
      "There are 1 Airplanes with unknown Color.\n",
      "[['Propelled', 1000, None]]\n"
     ]
    }
   ],
   "source": [
    "for Color in [\"Red\", \"Blue\", \"Yellow\", None]:\n",
    "    color_count(Airplanes, Color)"
   ]
  },
  {
   "cell_type": "markdown",
   "metadata": {},
   "source": [
    "It is possible to do the similar thing for Airplane Weights. "
   ]
  },
  {
   "cell_type": "code",
   "execution_count": 18,
   "metadata": {
    "collapsed": true
   },
   "outputs": [],
   "source": [
    "def weight_count(Airplanes_list, Weight):\n",
    "    weight_counter=0\n",
    "    return_list=[]\n",
    "    for airplane_item in Airplanes_list:\n",
    "        if airplane_item.Weight > Weight:\n",
    "            weight_counter+=1\n",
    "            return_list.append([airplane_item.Type, airplane_item.Weight, airplane_item.Color])\n",
    "            \n",
    "    print \"There are\", weight_counter, \"Airplanes that are heavier than\", str(Weight), \"metric tons.\"\n",
    "    print return_list"
   ]
  },
  {
   "cell_type": "markdown",
   "metadata": {},
   "source": [
    "Let's try our new function out:"
   ]
  },
  {
   "cell_type": "code",
   "execution_count": 19,
   "metadata": {
    "collapsed": false
   },
   "outputs": [
    {
     "name": "stdout",
     "output_type": "stream",
     "text": [
      "There are 10 Airplanes that are heavier than 0 metric tons.\n",
      "[['Jet', 100, 'Blue'], ['Propelled', 500, 'White'], ['Glider', 600, 'Blue'], ['Glider', 300, 'Red'], ['Jet', 200, 'Yellow'], ['Jet', 700, 'Red'], ['Jet', 700, 'Yellow'], ['Jet', 900, 'Red'], ['Jet', 200, 'Blue'], ['Propelled', 1000, None]]\n",
      "There are 6 Airplanes that are heavier than 300 metric tons.\n",
      "[['Propelled', 500, 'White'], ['Glider', 600, 'Blue'], ['Jet', 700, 'Red'], ['Jet', 700, 'Yellow'], ['Jet', 900, 'Red'], ['Propelled', 1000, None]]\n",
      "There are 5 Airplanes that are heavier than 500 metric tons.\n",
      "[['Glider', 600, 'Blue'], ['Jet', 700, 'Red'], ['Jet', 700, 'Yellow'], ['Jet', 900, 'Red'], ['Propelled', 1000, None]]\n"
     ]
    }
   ],
   "source": [
    "for Weight in [0, 300, 500]:\n",
    "    weight_count(Airplanes, Weight)"
   ]
  },
  {
   "cell_type": "code",
   "execution_count": null,
   "metadata": {
    "collapsed": true
   },
   "outputs": [],
   "source": []
  }
 ],
 "metadata": {
  "kernelspec": {
   "display_name": "Python 2",
   "language": "python",
   "name": "python2"
  },
  "language_info": {
   "codemirror_mode": {
    "name": "ipython",
    "version": 2
   },
   "file_extension": ".py",
   "mimetype": "text/x-python",
   "name": "python",
   "nbconvert_exporter": "python",
   "pygments_lexer": "ipython2",
   "version": "2.7.12"
  }
 },
 "nbformat": 4,
 "nbformat_minor": 1
}

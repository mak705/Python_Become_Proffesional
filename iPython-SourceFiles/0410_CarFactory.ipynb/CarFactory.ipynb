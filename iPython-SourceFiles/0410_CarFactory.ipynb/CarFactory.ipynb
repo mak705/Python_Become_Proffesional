{
 "cells": [
  {
   "cell_type": "markdown",
   "metadata": {},
   "source": [
    "In this example, we are going to create a simple Car factory. Cars differ by their parts: Body, Engine and number of Doors."
   ]
  },
  {
   "cell_type": "code",
   "execution_count": 4,
   "metadata": {
    "collapsed": true
   },
   "outputs": [],
   "source": [
    "class Car():\n",
    "    def __init__(self, Body, Engine, Doors_Number):\n",
    "        self.Body = Body\n",
    "        self.Engine = Engine\n",
    "        self.Doors_Number = Doors_Number"
   ]
  },
  {
   "cell_type": "markdown",
   "metadata": {},
   "source": [
    "There are five Car Body types: Small, Medium, Large, Sports, and Luxury"
   ]
  },
  {
   "cell_type": "code",
   "execution_count": 5,
   "metadata": {
    "collapsed": false
   },
   "outputs": [
    {
     "name": "stdout",
     "output_type": "stream",
     "text": [
      "['Small', 'Medium', 'Large', 'Sports', 'Luxury']\n"
     ]
    }
   ],
   "source": [
    "Body_types = [\"Small\", \"Medium\", \"Large\", \"Sports\", \"Luxury\"]\n",
    "print(Body_types)"
   ]
  },
  {
   "cell_type": "markdown",
   "metadata": {},
   "source": [
    "Also, each Engine has its own Type and number of Cylinders:"
   ]
  },
  {
   "cell_type": "code",
   "execution_count": 6,
   "metadata": {
    "collapsed": true
   },
   "outputs": [],
   "source": [
    "class Engine():\n",
    "    def __init__(self, Type, Cylinder_Number):\n",
    "        self.Type=Type\n",
    "        self.Cylinder_Number = Cylinder_Number"
   ]
  },
  {
   "cell_type": "markdown",
   "metadata": {},
   "source": [
    "We will create a few engine instances first:"
   ]
  },
  {
   "cell_type": "code",
   "execution_count": 28,
   "metadata": {
    "collapsed": false
   },
   "outputs": [],
   "source": [
    "Engines=[]\n",
    "Engines.append(Engine(\"External combustio1\", 6))\n",
    "Engines.append(Engine(\"Internal combustion\", 4))\n",
    "Engines.append(Engine(\"Internal combustion\", 4))\n",
    "Engines.append(Engine(\"Internal combustion\", 8))\n",
    "Engines.append(Engine(\"External combustion\", 8))\n",
    "Engines.append(Engine(\"Internal combustion\", 12))\n",
    "Engines.append(Engine(\"External combustion\", 12))\n",
    "Engines.append(Engine(\"Internal combustio2\", 6))\n",
    "Engines.append(Engine(\"External combustion\", 8))\n",
    "Engines.append(Engine(\"Internal combustion\", 12))\n",
    "Engines.append(Engine(\"Internal combustion\", 4))\n",
    "Engines.append(Engine(\"Internal combustion\", 12))\n",
    "Engines.append(Engine(\"External combustion\", 6))\n",
    "Engines.append(Engine(\"External combustion\", 8))"
   ]
  },
  {
   "cell_type": "markdown",
   "metadata": {},
   "source": [
    "Now we can make a few cars with created Engines:"
   ]
  },
  {
   "cell_type": "code",
   "execution_count": 31,
   "metadata": {
    "collapsed": true
   },
   "outputs": [],
   "source": [
    "Cars=[]\n",
    "for i in range(len(Engines)):\n",
    "    Cars.append(Car(Body_types[i%5], Engines[i], 3+i%2))"
   ]
  },
  {
   "cell_type": "markdown",
   "metadata": {},
   "source": [
    "Let's make a function that will list all the Cars with n cylinders:"
   ]
  },
  {
   "cell_type": "code",
   "execution_count": 36,
   "metadata": {
    "collapsed": true
   },
   "outputs": [],
   "source": [
    "def weight_count(Cars, Cylinder_Number):\n",
    "    cylinder_counter=0\n",
    "    return_list=[]\n",
    "    for car_item in Cars:\n",
    "        if car_item.Engine.Cylinder_Number==Cylinder_Number:\n",
    "            cylinder_counter+=1\n",
    "            return_list.append([car_item.Body,car_item.Engine.Type,str(car_item.Engine.Cylinder_Number) + \" Cylinders\", str(car_item.Doors_Number) + \" Doors\"])\n",
    "    print(\"There are\", cylinder_counter, \"cars that have an engine with\", str(Cylinder_Number), \"cylinders.\")\n",
    "    print(return_list)"
   ]
  },
  {
   "cell_type": "markdown",
   "metadata": {},
   "source": [
    "Now we can list all cars with 6 Cylinders"
   ]
  },
  {
   "cell_type": "code",
   "execution_count": 37,
   "metadata": {
    "collapsed": false
   },
   "outputs": [
    {
     "name": "stdout",
     "output_type": "stream",
     "text": [
      "('There are', 3, 'cars that have an engine with', '6', 'cylinders.')\n",
      "[['Small', 'External combustio1', '6 Cylinders', '3 Doors'], ['Large', 'Internal combustio2', '6 Cylinders', '4 Doors'], ['Large', 'External combustion', '6 Cylinders', '3 Doors']]\n"
     ]
    }
   ],
   "source": [
    "weight_count(Cars, 6)"
   ]
  },
  {
   "cell_type": "code",
   "execution_count": null,
   "metadata": {
    "collapsed": true
   },
   "outputs": [],
   "source": []
  },
  {
   "cell_type": "code",
   "execution_count": null,
   "metadata": {
    "collapsed": true
   },
   "outputs": [],
   "source": []
  }
 ],
 "metadata": {
  "kernelspec": {
   "display_name": "Python 2",
   "language": "python",
   "name": "python2"
  },
  "language_info": {
   "codemirror_mode": {
    "name": "ipython",
    "version": 2
   },
   "file_extension": ".py",
   "mimetype": "text/x-python",
   "name": "python",
   "nbconvert_exporter": "python",
   "pygments_lexer": "ipython2",
   "version": "2.7.12"
  }
 },
 "nbformat": 4,
 "nbformat_minor": 1
}
